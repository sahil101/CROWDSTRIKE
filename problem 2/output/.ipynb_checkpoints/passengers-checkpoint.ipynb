{
 "cells": [
  {
   "cell_type": "code",
   "execution_count": 0,
   "metadata": {
    "_kg_hide-input": false
   },
   "outputs": [],
   "source": [
    "# This Python 3 environment comes with many helpful analytics libraries installed\n",
    "# It is defined by the kaggle/python docker image: https://github.com/kaggle/docker-python\n",
    "# For example, here's several helpful packages to load in \n",
    "\n",
    "import numpy as np # linear algebra\n",
    "import pandas as pd # data processing, CSV file I/O (e.g. pd.read_csv)\n",
    "import tensorflow\n",
    "from sklearn.linear_model import LinearRegression\n",
    "from sklearn.metrics import mean_squared_error\n",
    "from sklearn.model_selection import train_test_split\n",
    "from sklearn.metrics import r2_score\n",
    "df = pd.read_csv(\"../input/Training.csv\")\n",
    "df.head()\n",
    "country = df[\"COUNTRY_NAME\"]\n",
    "dict_code = {}\n",
    "# country\n",
    "for i in range(len(country)):\n",
    "    dict_code[country[i]] = [0,0,0,0]\n",
    "for i in range(len(df)):\n",
    "    if df[\"QUARTER\"][i] == 'Q1':\n",
    "        d = 0\n",
    "        dict_code[df['COUNTRY_NAME'][i]][d]+=df['PASSENGERS_TO_INDIA'][i]\n",
    "    elif df[\"QUARTER\"][i] == 'Q2':\n",
    "        d = 1\n",
    "        dict_code[df['COUNTRY_NAME'][i]][d]+=df['PASSENGERS_TO_INDIA'][i]    \n",
    "    elif df[\"QUARTER\"][i] == 'Q3':\n",
    "        d = 2\n",
    "        dict_code[df['COUNTRY_NAME'][i]][d]+=df['PASSENGERS_TO_INDIA'][i]    \n",
    "    elif df[\"QUARTER\"][i] == 'Q4':\n",
    "        d = 3\n",
    "        dict_code[df['COUNTRY_NAME'][i]][d]+=df['PASSENGERS_TO_INDIA'][i]\n",
    "def predict_m(s):\n",
    "    Y = np.matrix(dict_code[s]).T\n",
    "    X = np.matrix([[0],[1],[2],[3]])\n",
    "    m  = len(set(df['YEAR']))\n",
    "    Y= np.divide(Y,m)\n",
    "    x_train,y_train=X,Y #80 20 split,random_state to reproduce the same split everytime\n",
    "    x_test = np.matrix([[0]])\n",
    "    lr_model= LinearRegression()\n",
    "    lr_model.fit(x_train,y_train) \n",
    "    return lr_model.predict(x_test)\n",
    "df2 = pd.read_csv(\"../input/Testing.csv\")\n",
    "df2.head()\n",
    "output = {}\n",
    "for s in range(len(country)):\n",
    "    output[country[s]] = int(predict_m(country[s]))\n",
    "print(output)\n",
    "import csv\n",
    "\n",
    "myFile = open('countries.csv', 'w')\n",
    "with myFile:    \n",
    "    myFields = ['COUNTRY_NAME', 'PASSENGERS_TO_INDIA']\n",
    "    writer = csv.DictWriter(myFile, fieldnames=myFields)    \n",
    "    writer.writeheader()\n",
    "    for key in output.keys():\n",
    "        writer.writerow({'COUNTRY_NAME' : key, 'PASSENGERS_TO_INDIA': output[key]})\n"
   ]
  }
 ],
 "metadata": {
  "kernelspec": {
   "display_name": "Python 3",
   "language": "python",
   "name": "python3"
  },
  "language_info": {
   "codemirror_mode": {
    "name": "ipython",
    "version": 3
   },
   "file_extension": ".py",
   "mimetype": "text/x-python",
   "name": "python",
   "nbconvert_exporter": "python",
   "pygments_lexer": "ipython3",
   "version": "3.7.1"
  }
 },
 "nbformat": 4,
 "nbformat_minor": 4
}
