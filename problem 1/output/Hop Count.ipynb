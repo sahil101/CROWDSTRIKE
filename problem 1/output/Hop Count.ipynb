{
 "cells": [
  {
   "cell_type": "code",
   "execution_count": null,
   "metadata": {},
   "outputs": [],
   "source": [
    "import pandas as pd\n",
    "import numpy as np\n"
   ]
  },
  {
   "cell_type": "code",
   "execution_count": null,
   "metadata": {},
   "outputs": [],
   "source": [
    "df = pd.read_csv(\"Airlines Data CrowdStrike - RawTest_v5.csv\")"
   ]
  },
  {
   "cell_type": "code",
   "execution_count": null,
   "metadata": {},
   "outputs": [],
   "source": [
    "l1 = list(df['SourceAirportID'])\n",
    "l2 = list(df['DestinationAirportID'])\n",
    "l6=list(set(l1))\n",
    "l3 = l6+l7\n",
    "l3 = list(set(l3))"
   ]
  },
  {
   "cell_type": "code",
   "execution_count": null,
   "metadata": {},
   "outputs": [],
   "source": [
    "l4 = {}\n",
    "for i in range(len(l3)):\n",
    "    l4[l3[i]] = i\n",
    "n = len(l4)\n",
    "print(n)"
   ]
  },
  {
   "cell_type": "code",
   "execution_count": null,
   "metadata": {},
   "outputs": [],
   "source": [
    "list1 = []\n",
    "for i in range(n):\n",
    "    list2 = []\n",
    "    for j in range(n):\n",
    "        if i == j:\n",
    "            list2.append(0)\n",
    "        else:   \n",
    "            list2.append(float(\"Inf\"))\n",
    "    list1.append(list2)\n",
    "for i in range(len(l3)):\n",
    "    x = l4[l1[i]]\n",
    "    y = l4[l2[i]]\n",
    "    list1[x][y] = 1"
   ]
  },
  {
   "cell_type": "code",
   "execution_count": null,
   "metadata": {},
   "outputs": [],
   "source": [
    "\n",
    "def Dijkstra(Graph, _s, _d): \n",
    "    row = len(Graph) \n",
    "    col = len(Graph[0]) \n",
    "    dist = [float(\"Inf\")] * row \n",
    "    Blackened =[0] * row \n",
    "    pathlength =[0] * row \n",
    "    parent = [-1] * row \n",
    "    dist[_s]= 0\n",
    "    for count in range(row-1): \n",
    "        u = MinDistance(dist, Blackened) \n",
    "        if u == float(\"Inf\"): \n",
    "            break\n",
    "        else: \n",
    "            Blackened[u]= 1 \n",
    "        for v in range(row): \n",
    "            if Blackened[v]== 0 and Graph[u][v] and dist[u]+Graph[u][v]<dist[v]: \n",
    "                parent[v]= u \n",
    "                pathlength[v]= pathlength[parent[v]]+1\n",
    "                dist[v]= dist[u]+Graph[u][v] \n",
    "            elif Blackened[v]== 0 and Graph[u][v] and dist[u]+Graph[u][v]== dist[v] and pathlength[u]+1<pathlength[v]: \n",
    "                parent[v]= u \n",
    "                pathlength[v] = pathlength[u] + 1\n",
    "    if dist[_d]!= float(\"Inf\"):\n",
    "        list2 = []\n",
    "        return PrintPath(parent, _d,list2) \n",
    "    else: \n",
    "        return []\n",
    "def PrintPath(parent, _d,list2): \n",
    "    if parent[_d]==-1:\n",
    "        list2.append(_d)\n",
    "        return list2\n",
    "    list2 = PrintPath(parent, parent[_d],list2)\n",
    "    list2.append(_d)\n",
    "    return list2\n",
    "    print (\"->\", _d,) \n",
    "def MinDistance(dist, Blackened): \n",
    "    min = float(\"Inf\") \n",
    "    for v in range(len(dist)): \n",
    "        if not Blackened[v] and dist[v]<min: \n",
    "            min = dist[v] \n",
    "            Min_index = v \n",
    "    return float(\"Inf\") if min == float(\"Inf\") else Min_index"
   ]
  },
  {
   "cell_type": "code",
   "execution_count": null,
   "metadata": {},
   "outputs": [],
   "source": [
    "df2 = pd.read_csv(\"testdata.csv\")\n",
    "df2\n",
    "dict_id = {}\n",
    "s = list(df2['SourceAirportID'])\n",
    "d = list(df2['DestinationAirportID'])\n",
    "pid = list(df2['PairID'])\n",
    "len(pid)\n",
    "for i in range(20000):\n",
    "    if Dijkstra(list1,l4[s[i]],l4[d[i]]) == []:\n",
    "        dict_id[pid[i]] = -1\n",
    "    else:\n",
    "        dict_id[pid[i]] = len(Dijkstra(list1,l4[s[i]],l4[d[i]]))-2\n",
    "        print(dict_id[pid[i]])\n",
    "\n"
   ]
  },
  {
   "cell_type": "code",
   "execution_count": null,
   "metadata": {},
   "outputs": [],
   "source": [
    "import csv\n",
    "\n",
    "myFile = open('output.csv', 'w')\n",
    "with myFile:    \n",
    "    myFields = ['PairID','Hops']\n",
    "    writer = csv.DictWriter(myFile, fieldnames=myFields)    \n",
    "    writer.writeheader()\n",
    "    for i in range(len(pid)):\n",
    "        if pid[i] not in dict_id.keys():\n",
    "            writer.writerow({'PairID' : pid[i],'Hops' : -1})\n",
    "        else:\n",
    "            writer.writerow({'PairID' : pid[i],'Hops' : dict_id[pid[i]]})"
   ]
  },
  {
   "cell_type": "code",
   "execution_count": null,
   "metadata": {},
   "outputs": [],
   "source": []
  }
 ],
 "metadata": {
  "kernelspec": {
   "display_name": "Python 3",
   "language": "python",
   "name": "python3"
  },
  "language_info": {
   "codemirror_mode": {
    "name": "ipython",
    "version": 3
   },
   "file_extension": ".py",
   "mimetype": "text/x-python",
   "name": "python",
   "nbconvert_exporter": "python",
   "pygments_lexer": "ipython3",
   "version": "3.7.1"
  }
 },
 "nbformat": 4,
 "nbformat_minor": 2
}
